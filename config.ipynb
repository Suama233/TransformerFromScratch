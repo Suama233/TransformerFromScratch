{
 "cells": [
  {
   "cell_type": "markdown",
   "metadata": {},
   "source": [
    "显然大一些的模型 , 单独配置 config 文件是必要的\n",
    "\n",
    "一些参量的含义 : \n",
    "- seq_len\t序列的最大长度\n",
    "- datasource\t数据集名称\n",
    "- lang_src / lang_tgt\t源语言 / 目标语言\n",
    "- model_folder\t模型权重保存的目录 ( 这个是文件夹名 )\n",
    "- model_basename\t模型文件名前缀 ( 用于多 epoch 保存 ) ( 这个是文件名 )\n",
    "- preload\t是否加载最新的模型 (latest) ( 在 train.py 中 , 如果为真则会调用 )\n",
    "- tokenizer_file\ttokenizer 文件名模板\n",
    "- experiment_name\t用于 TensorBoard 记录等实验标识路径\n",
    "\n",
    "tokenizer_file 还要分文件存 , 是因为其是面向不同语言的 , 每一个语言存一份 . \n",
    "\n",
    "而其名字里的 `{0}` 是搭配将来的 format 格式化用的 , python 允许提前用其来占位 , 使用时直接 `xxx.format()` 就行了 ( 比如 : `tokenizer_src_path = config[\"tokenizer_file\"].format(config[\"lang_src\"])` ) . \n",
    "\n",
    "下面又提供了两个调用模型参数的函数 : \n",
    "\n",
    "注意到它们的主体是相同的 , 用来返回某epoch下的参数来防止每次从零开始 , 不同的是一个可以手动传从第几个 epoch 开始 , 一个自动找最新的 epoch , \n",
    "\n",
    "也就与 config 里的 latest 参数相呼应了 . "
   ]
  },
  {
   "cell_type": "code",
   "execution_count": null,
   "metadata": {},
   "outputs": [],
   "source": [
    "from pathlib import Path\n",
    "\n",
    "def get_config():\n",
    "    return {\n",
    "        \"batch_size\": 4,\n",
    "        \"num_epochs\": 20,\n",
    "        \"lr\": 10**-4,\n",
    "        \"seq_len\": 350,\n",
    "        \"d_model\": 512,\n",
    "        \"datasource\": 'opus_books',\n",
    "        \"lang_src\": \"en\",\n",
    "        \"lang_tgt\": \"it\",\n",
    "        \"model_folder\": \"weights\",\n",
    "        \"model_basename\": \"tmodel_\",\n",
    "        \"preload\": \"latest\",\n",
    "        \"tokenizer_file\": \"tokenizer_{0}.json\",\n",
    "        \"experiment_name\": \"runs/tmodel\"\n",
    "    }\n",
    "\n",
    "def get_weights_file_path(config, epoch: str):\n",
    "    model_folder = f\"{config['datasource']}_{config['model_folder']}\"\n",
    "    model_filename = f\"{config['model_basename']}{epoch}.pt\"\n",
    "    return str(Path('.') / model_folder / model_filename)\n",
    "\n",
    "# Find the latest weights file in the weights folder\n",
    "def latest_weights_file_path(config):\n",
    "    model_folder = f\"{config['datasource']}_{config['model_folder']}\"\n",
    "    model_filename = f\"{config['model_basename']}*\"\n",
    "    weights_files = list(Path(model_folder).glob(model_filename))\n",
    "    if len(weights_files) == 0:\n",
    "        return None\n",
    "    weights_files.sort()\n",
    "    return str(weights_files[-1])"
   ]
  }
 ],
 "metadata": {
  "language_info": {
   "name": "python"
  }
 },
 "nbformat": 4,
 "nbformat_minor": 2
}
